{
 "cells": [
  {
   "cell_type": "markdown",
   "id": "7beaa314",
   "metadata": {},
   "source": [
    "## Tests"
   ]
  },
  {
   "cell_type": "code",
   "execution_count": 1,
   "id": "854bae74",
   "metadata": {},
   "outputs": [],
   "source": [
    "# imports\n",
    "import pydicom\n",
    "from pathlib import Path\n",
    "import numpy as np\n",
    "from PIL import Image\n"
   ]
  },
  {
   "cell_type": "code",
   "execution_count": 2,
   "id": "6027aa13",
   "metadata": {},
   "outputs": [
    {
     "name": "stdout",
     "output_type": "stream",
     "text": [
      "Skipped invalid DICOM: CT1.2.752.243.1.1.20250506090153570.2410.25026.dcm\n",
      "Found 159 valid dcm files\n"
     ]
    }
   ],
   "source": [
    "DICOM_Folder = Path(r\"C:\\University\\COOP\\Hospital Summer 2025\\Python Stuff\\InitialAssignment\\DICOM\")\n",
    "\n",
    "DICOM_CT_Files = []\n",
    "DICOM_FileNames = []\n",
    "\n",
    "for file in DICOM_Folder.glob(\"*.dcm\"):\n",
    "    if file.is_file():\n",
    "        # print(f\"Found file: {file.name}\")\n",
    "        try:\n",
    "            DICOM_CT_Files.append(pydicom.dcmread(file))\n",
    "            DICOM_FileNames.append(file)\n",
    "        except:\n",
    "            print(f\"Skipped invalid DICOM: {file.name}\")\n",
    "\n",
    "print(f\"Found {len(DICOM_CT_Files)} valid dcm files\")"
   ]
  },
  {
   "cell_type": "code",
   "execution_count": 3,
   "id": "1a2208d1",
   "metadata": {},
   "outputs": [
    {
     "data": {
      "text/plain": [
       "(512, 512)"
      ]
     },
     "execution_count": 3,
     "metadata": {},
     "output_type": "execute_result"
    }
   ],
   "source": [
    "DICOM_CT_Files[0].pixel_array.shape"
   ]
  },
  {
   "cell_type": "markdown",
   "id": "b5e8f40f",
   "metadata": {},
   "source": [
    "## Show CT Image"
   ]
  },
  {
   "cell_type": "code",
   "execution_count": 4,
   "id": "1d7679e9",
   "metadata": {},
   "outputs": [],
   "source": [
    "# float_dicom_array = DICOM_CT_Files[0].pixel_array.astype(float)\n",
    "# positive_dicom_array = np.maximum(float_dicom_array, 0)\n",
    "# normalized_dicom_array = positive_dicom_array/positive_dicom_array.max()\n",
    "# dicom_image = normalized_dicom_array * 255\n",
    "# uint8_image = np.uint8(dicom_image)\n",
    "\n",
    "dicom_image = np.uint8(((np.maximum(DICOM_CT_Files[0].pixel_array.astype(float), 0))/(DICOM_CT_Files[0].pixel_array.astype(float).max()))*255)"
   ]
  },
  {
   "cell_type": "code",
   "execution_count": 6,
   "id": "0cf066c2",
   "metadata": {},
   "outputs": [],
   "source": [
    "pillow_image = Image.fromarray(dicom_image)\n",
    "pillow_image.show()"
   ]
  }
 ],
 "metadata": {
  "kernelspec": {
   "display_name": "venv",
   "language": "python",
   "name": "python3"
  },
  "language_info": {
   "codemirror_mode": {
    "name": "ipython",
    "version": 3
   },
   "file_extension": ".py",
   "mimetype": "text/x-python",
   "name": "python",
   "nbconvert_exporter": "python",
   "pygments_lexer": "ipython3",
   "version": "3.13.0"
  }
 },
 "nbformat": 4,
 "nbformat_minor": 5
}
