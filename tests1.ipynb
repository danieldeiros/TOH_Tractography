{
 "cells": [
  {
   "cell_type": "markdown",
   "id": "25405fc3",
   "metadata": {},
   "source": [
    "## Doing tests"
   ]
  },
  {
   "cell_type": "code",
   "execution_count": 1,
   "id": "720311c8",
   "metadata": {},
   "outputs": [],
   "source": [
    "import pydicom"
   ]
  },
  {
   "cell_type": "code",
   "execution_count": 2,
   "id": "4d176aae",
   "metadata": {},
   "outputs": [],
   "source": [
    "dicom_file = pydicom.dcmread('DICOM/CT1.2.752.243.1.1.20250506090153458.1720.40862.dcm')"
   ]
  },
  {
   "cell_type": "code",
   "execution_count": 3,
   "id": "80f3b5b5",
   "metadata": {},
   "outputs": [
    {
     "data": {
      "text/plain": [
       "Dataset.file_meta -------------------------------\n",
       "(0002,0000) File Meta Information Group Length  UL: 274\n",
       "(0002,0001) File Meta Information Version       OB: b'\\x00\\x01'\n",
       "(0002,0002) Media Storage SOP Class UID         UI: CT Image Storage\n",
       "(0002,0003) Media Storage SOP Instance UID      UI: 1.2.752.243.1.1.20250506090153458.1720.40862\n",
       "(0002,0010) Transfer Syntax UID                 UI: Implicit VR Little Endian\n",
       "(0002,0012) Implementation Class UID            UI: 1.2.826.0.1.3680043.1.2.100.8.40.1101.0\n",
       "(0002,0013) Implementation Version Name         SH: 'DicomObjects.NET'\n",
       "(0002,0100) Private Information Creator UID     UI: 1.2.826.0.1.3680043.1.2.100.8.40.1101.0\n",
       "(0002,0102) Private Information                 OB: b'DicomObjects.NET'\n",
       "-------------------------------------------------\n",
       "(0008,0005) Specific Character Set              CS: 'ISO_IR 100'\n",
       "(0008,0008) Image Type                          CS: ['ORIGINAL', 'PRIMARY', 'AXIAL']\n",
       "(0008,0012) Instance Creation Date              DA: '20250416'\n",
       "(0008,0013) Instance Creation Time              TM: '144256.749'\n",
       "(0008,0016) SOP Class UID                       UI: CT Image Storage\n",
       "(0008,0018) SOP Instance UID                    UI: 1.2.752.243.1.1.20250506090153458.1720.40862\n",
       "(0008,0020) Study Date                          DA: '20250416'\n",
       "(0008,0021) Series Date                         DA: '20250416'\n",
       "(0008,0022) Acquisition Date                    DA: '20250416'\n",
       "(0008,0023) Content Date                        DA: '20250416'\n",
       "(0008,002A) Acquisition DateTime                DT: '20250416144206.040'\n",
       "(0008,0030) Study Time                          TM: '144032.415'\n",
       "(0008,0031) Series Time                         TM: '144250.174'\n",
       "(0008,0032) Acquisition Time                    TM: '144206'\n",
       "(0008,0033) Content Time                        TM: '144206.798'\n",
       "(0008,0050) Accession Number                    SH: ''\n",
       "(0008,0060) Modality                            CS: 'CT'\n",
       "(0008,0070) Manufacturer                        LO: 'Philips'\n",
       "(0008,0080) Institution Name                    LO: 'TOHCC / CTSIM #2'\n",
       "(0008,0081) Institution Address                 ST: 'OTTAWA, ONTARIO'\n",
       "(0008,0090) Referring Physician's Name          PN: ''\n",
       "(0008,1010) Station Name                        SH: 'HOST-7055'\n",
       "(0008,1040) Institutional Department Name       LO: 'Radiation Medicine'\n",
       "(0008,1090) Manufacturer's Model Name           LO: 'Brilliance Big Bore'\n",
       "(0008,1140)  Referenced Image Sequence  1 item(s) ---- \n",
       "   (0008,1150) Referenced SOP Class UID            UI: CT Image Storage\n",
       "   (0008,1155) Referenced SOP Instance UID         UI: 1.2.752.243.1.1.20250506090153458.1730.62430\n",
       "   ---------\n",
       "(0008,3010) Irradiation Event UID               UI: 1.2.752.243.1.1.20250506090153458.1740.51406\n",
       "(0010,0010) Patient's Name                      PN: 'Test'\n",
       "(0010,0020) Patient ID                          LO: 'Test'\n",
       "(0010,0030) Patient's Birth Date                DA: '20250506'\n",
       "(0010,0040) Patient's Sex                       CS: 'O'\n",
       "(0012,0062) Patient Identity Removed            CS: 'YES'\n",
       "(0012,0063) De-identification Method            LO: 'RayStation 14.0.0.0'\n",
       "(0018,0015) Body Part Examined                  CS: 'NECK'\n",
       "(0018,0022) Scan Options                        CS: 'HELIX'\n",
       "(0018,0050) Slice Thickness                     DS: '3'\n",
       "(0018,0060) KVP                                 DS: '120'\n",
       "(0018,0088) Spacing Between Slices              DS: '3'\n",
       "(0018,0090) Data Collection Diameter            DS: '700'\n",
       "(0018,1000) Device Serial Number                LO: '750021'\n",
       "(0018,1020) Software Versions                   LO: '4.2'\n",
       "(0018,1100) Reconstruction Diameter             DS: '600'\n",
       "(0018,1110) Distance Source to Detector         DS: '1183.44799804688'\n",
       "(0018,1111) Distance Source to Patient          DS: '645'\n",
       "(0018,1120) Gantry/Detector Tilt                DS: '0'\n",
       "(0018,1130) Table Height                        DS: '170.5'\n",
       "(0018,1150) Exposure Time                       IS: '920'\n",
       "(0018,1151) X-Ray Tube Current                  IS: '163'\n",
       "(0018,1152) Exposure                            IS: '150'\n",
       "(0018,1160) Filter Type                         SH: 'B'\n",
       "(0018,1210) Convolution Kernel                  SH: 'B'\n",
       "(0018,5100) Patient Position                    CS: 'HFS'\n",
       "(0018,9302) Acquisition Type                    CS: 'SPIRAL'\n",
       "(0018,9305) Revolution Time                     FD: 0.75\n",
       "(0018,9306) Single Collimation Width            FD: 0.75\n",
       "(0018,9307) Total Collimation Width             FD: 12.0\n",
       "(0018,9309) Table Speed                         FD: 13.0\n",
       "(0018,9310) Table Feed per Rotation             FD: 13.008\n",
       "(0018,9311) Spiral Pitch Factor                 FD: 0.813\n",
       "(0018,9323) Exposure Modulation Type            CS: '3D MODULATION'\n",
       "(0018,9324) Estimated Dose Saving               FD: 32.0\n",
       "(0018,9345) CTDIvol                             FD: 9.931506849315069\n",
       "(0020,000D) Study Instance UID                  UI: 1.2.752.243.1.1.20250506090153458.1750.33681\n",
       "(0020,000E) Series Instance UID                 UI: 1.2.752.243.1.1.20250506090153458.1760.71315\n",
       "(0020,0010) Study ID                            SH: ''\n",
       "(0020,0011) Series Number                       IS: '201'\n",
       "(0020,0012) Acquisition Number                  IS: '1'\n",
       "(0020,0013) Instance Number                     IS: '1'\n",
       "(0020,0032) Image Position (Patient)            DS: [-300, -215.5, 258]\n",
       "(0020,0037) Image Orientation (Patient)         DS: [1, 0, 0, 0, 1, 0]\n",
       "(0020,0052) Frame of Reference UID              UI: 1.2.752.243.1.1.20250506090153458.1770.43334\n",
       "(0020,1040) Position Reference Indicator        LO: ''\n",
       "(0020,1041) Slice Location                      DS: '258'\n",
       "(0028,0002) Samples per Pixel                   US: 1\n",
       "(0028,0004) Photometric Interpretation          CS: 'MONOCHROME2'\n",
       "(0028,0010) Rows                                US: 512\n",
       "(0028,0011) Columns                             US: 512\n",
       "(0028,0030) Pixel Spacing                       DS: [1.171875, 1.171875]\n",
       "(0028,0100) Bits Allocated                      US: 16\n",
       "(0028,0101) Bits Stored                         US: 12\n",
       "(0028,0102) High Bit                            US: 11\n",
       "(0028,0103) Pixel Representation                US: 0\n",
       "(0028,1050) Window Center                       DS: [60, 60]\n",
       "(0028,1051) Window Width                        DS: [400, 400]\n",
       "(0028,1052) Rescale Intercept                   DS: '-1024'\n",
       "(0028,1053) Rescale Slope                       DS: '1'\n",
       "(7FE0,0010) Pixel Data                          OW: Array of 524288 elements"
      ]
     },
     "execution_count": 3,
     "metadata": {},
     "output_type": "execute_result"
    }
   ],
   "source": [
    "dicom_file"
   ]
  },
  {
   "cell_type": "code",
   "execution_count": 9,
   "id": "7d6826f6",
   "metadata": {},
   "outputs": [
    {
     "data": {
      "text/plain": [
       "'Test'"
      ]
     },
     "execution_count": 9,
     "metadata": {},
     "output_type": "execute_result"
    }
   ],
   "source": [
    "dicom_file.PatientID"
   ]
  }
 ],
 "metadata": {
  "kernelspec": {
   "display_name": "venv",
   "language": "python",
   "name": "python3"
  },
  "language_info": {
   "codemirror_mode": {
    "name": "ipython",
    "version": 3
   },
   "file_extension": ".py",
   "mimetype": "text/x-python",
   "name": "python",
   "nbconvert_exporter": "python",
   "pygments_lexer": "ipython3",
   "version": "3.13.0"
  }
 },
 "nbformat": 4,
 "nbformat_minor": 5
}
